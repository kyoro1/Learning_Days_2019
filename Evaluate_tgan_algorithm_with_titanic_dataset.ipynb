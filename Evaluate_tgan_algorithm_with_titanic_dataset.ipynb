{
 "cells": [
  {
   "cell_type": "markdown",
   "metadata": {},
   "source": [
    "# 0. Purpose of this notebook\n",
    "\n",
    " - Examine how `tgan` algorithm works\n",
    " \n",
    " - References:\n",
    "     - [テーブルデータ向けのGAN（TGAN）で、titanicのデータを増やす!](https://upura.hatenablog.com/entry/2019/08/20/120000) (in Japanese)\n",
    "         - Referred this site for executing tgan\n",
    "     - [Implementation of tgan](https://github.com/DAI-Lab/TGAN)\n",
    "     \n",
    "- Environment:\n",
    "    - Examined this notebook under python3.6 AzureML environment (Data Science VM)\n",
    "\n",
    "- Major preparation:\n",
    "    - `pip install tgan` and related packages like tensorflow, imblearn etc.\n",
    "    - Download titanic dataset from https://www.kaggle.com/c/titanic/data, and put `train.csv` into `./data`, after making the directory."
   ]
  },
  {
   "cell_type": "markdown",
   "metadata": {},
   "source": [
    "# 1. Preparation & execution of `tgan`"
   ]
  },
  {
   "cell_type": "code",
   "execution_count": 1,
   "metadata": {},
   "outputs": [
    {
     "name": "stderr",
     "output_type": "stream",
     "text": [
      "Using TensorFlow backend.\n",
      "WARNING: Logging before flag parsing goes to stderr.\n",
      "W0922 08:48:38.683970 140633002911488 deprecation_wrapper.py:119] From /anaconda/envs/py36/lib/python3.6/site-packages/tensorpack/callbacks/hooks.py:17: The name tf.train.SessionRunHook is deprecated. Please use tf.estimator.SessionRunHook instead.\n",
      "\n",
      "W0922 08:48:38.699619 140633002911488 deprecation_wrapper.py:119] From /anaconda/envs/py36/lib/python3.6/site-packages/tensorpack/tfutils/optimizer.py:18: The name tf.train.Optimizer is deprecated. Please use tf.compat.v1.train.Optimizer instead.\n",
      "\n",
      "W0922 08:48:38.701217 140633002911488 deprecation_wrapper.py:119] From /anaconda/envs/py36/lib/python3.6/site-packages/tensorpack/tfutils/sesscreate.py:20: The name tf.train.SessionCreator is deprecated. Please use tf.compat.v1.train.SessionCreator instead.\n",
      "\n"
     ]
    }
   ],
   "source": [
    "import os, sys\n",
    "\n",
    "import numpy as np\n",
    "import pandas as pd\n",
    "from scipy.spatial import distance\n",
    "from sklearn.linear_model import LogisticRegression\n",
    "from sklearn.model_selection import train_test_split\n",
    "from sklearn.metrics import confusion_matrix, f1_score\n",
    "\n",
    "from imblearn.over_sampling import SMOTE\n",
    "\n",
    "from tgan.model import TGANModel\n",
    "\n",
    "import seaborn as sns"
   ]
  },
  {
   "cell_type": "markdown",
   "metadata": {},
   "source": [
    "# 1.0 Load data"
   ]
  },
  {
   "cell_type": "code",
   "execution_count": 2,
   "metadata": {},
   "outputs": [],
   "source": [
    "## Used dataset\n",
    "FILE = 'train.csv'"
   ]
  },
  {
   "cell_type": "code",
   "execution_count": 3,
   "metadata": {},
   "outputs": [],
   "source": [
    "WKDIR = './data'\n",
    "os.chdir(WKDIR)"
   ]
  },
  {
   "cell_type": "code",
   "execution_count": 4,
   "metadata": {},
   "outputs": [],
   "source": [
    "## Data load\n",
    "df = pd.read_csv(FILE)"
   ]
  },
  {
   "cell_type": "code",
   "execution_count": 5,
   "metadata": {},
   "outputs": [
    {
     "data": {
      "text/plain": [
       "(891, 12)"
      ]
     },
     "execution_count": 5,
     "metadata": {},
     "output_type": "execute_result"
    }
   ],
   "source": [
    "df.shape"
   ]
  },
  {
   "cell_type": "code",
   "execution_count": 6,
   "metadata": {},
   "outputs": [
    {
     "data": {
      "text/html": [
       "<div>\n",
       "<style scoped>\n",
       "    .dataframe tbody tr th:only-of-type {\n",
       "        vertical-align: middle;\n",
       "    }\n",
       "\n",
       "    .dataframe tbody tr th {\n",
       "        vertical-align: top;\n",
       "    }\n",
       "\n",
       "    .dataframe thead th {\n",
       "        text-align: right;\n",
       "    }\n",
       "</style>\n",
       "<table border=\"1\" class=\"dataframe\">\n",
       "  <thead>\n",
       "    <tr style=\"text-align: right;\">\n",
       "      <th></th>\n",
       "      <th>PassengerId</th>\n",
       "      <th>Survived</th>\n",
       "      <th>Pclass</th>\n",
       "      <th>Name</th>\n",
       "      <th>Sex</th>\n",
       "      <th>Age</th>\n",
       "      <th>SibSp</th>\n",
       "      <th>Parch</th>\n",
       "      <th>Ticket</th>\n",
       "      <th>Fare</th>\n",
       "      <th>Cabin</th>\n",
       "      <th>Embarked</th>\n",
       "    </tr>\n",
       "  </thead>\n",
       "  <tbody>\n",
       "    <tr>\n",
       "      <th>0</th>\n",
       "      <td>1</td>\n",
       "      <td>0</td>\n",
       "      <td>3</td>\n",
       "      <td>Braund, Mr. Owen Harris</td>\n",
       "      <td>male</td>\n",
       "      <td>22.0</td>\n",
       "      <td>1</td>\n",
       "      <td>0</td>\n",
       "      <td>A/5 21171</td>\n",
       "      <td>7.2500</td>\n",
       "      <td>NaN</td>\n",
       "      <td>S</td>\n",
       "    </tr>\n",
       "    <tr>\n",
       "      <th>1</th>\n",
       "      <td>2</td>\n",
       "      <td>1</td>\n",
       "      <td>1</td>\n",
       "      <td>Cumings, Mrs. John Bradley (Florence Briggs Th...</td>\n",
       "      <td>female</td>\n",
       "      <td>38.0</td>\n",
       "      <td>1</td>\n",
       "      <td>0</td>\n",
       "      <td>PC 17599</td>\n",
       "      <td>71.2833</td>\n",
       "      <td>C85</td>\n",
       "      <td>C</td>\n",
       "    </tr>\n",
       "    <tr>\n",
       "      <th>2</th>\n",
       "      <td>3</td>\n",
       "      <td>1</td>\n",
       "      <td>3</td>\n",
       "      <td>Heikkinen, Miss. Laina</td>\n",
       "      <td>female</td>\n",
       "      <td>26.0</td>\n",
       "      <td>0</td>\n",
       "      <td>0</td>\n",
       "      <td>STON/O2. 3101282</td>\n",
       "      <td>7.9250</td>\n",
       "      <td>NaN</td>\n",
       "      <td>S</td>\n",
       "    </tr>\n",
       "    <tr>\n",
       "      <th>3</th>\n",
       "      <td>4</td>\n",
       "      <td>1</td>\n",
       "      <td>1</td>\n",
       "      <td>Futrelle, Mrs. Jacques Heath (Lily May Peel)</td>\n",
       "      <td>female</td>\n",
       "      <td>35.0</td>\n",
       "      <td>1</td>\n",
       "      <td>0</td>\n",
       "      <td>113803</td>\n",
       "      <td>53.1000</td>\n",
       "      <td>C123</td>\n",
       "      <td>S</td>\n",
       "    </tr>\n",
       "    <tr>\n",
       "      <th>4</th>\n",
       "      <td>5</td>\n",
       "      <td>0</td>\n",
       "      <td>3</td>\n",
       "      <td>Allen, Mr. William Henry</td>\n",
       "      <td>male</td>\n",
       "      <td>35.0</td>\n",
       "      <td>0</td>\n",
       "      <td>0</td>\n",
       "      <td>373450</td>\n",
       "      <td>8.0500</td>\n",
       "      <td>NaN</td>\n",
       "      <td>S</td>\n",
       "    </tr>\n",
       "  </tbody>\n",
       "</table>\n",
       "</div>"
      ],
      "text/plain": [
       "   PassengerId  Survived  Pclass  \\\n",
       "0            1         0       3   \n",
       "1            2         1       1   \n",
       "2            3         1       3   \n",
       "3            4         1       1   \n",
       "4            5         0       3   \n",
       "\n",
       "                                                Name     Sex   Age  SibSp  \\\n",
       "0                            Braund, Mr. Owen Harris    male  22.0      1   \n",
       "1  Cumings, Mrs. John Bradley (Florence Briggs Th...  female  38.0      1   \n",
       "2                             Heikkinen, Miss. Laina  female  26.0      0   \n",
       "3       Futrelle, Mrs. Jacques Heath (Lily May Peel)  female  35.0      1   \n",
       "4                           Allen, Mr. William Henry    male  35.0      0   \n",
       "\n",
       "   Parch            Ticket     Fare Cabin Embarked  \n",
       "0      0         A/5 21171   7.2500   NaN        S  \n",
       "1      0          PC 17599  71.2833   C85        C  \n",
       "2      0  STON/O2. 3101282   7.9250   NaN        S  \n",
       "3      0            113803  53.1000  C123        S  \n",
       "4      0            373450   8.0500   NaN        S  "
      ]
     },
     "execution_count": 6,
     "metadata": {},
     "output_type": "execute_result"
    }
   ],
   "source": [
    "df.head()"
   ]
  },
  {
   "cell_type": "markdown",
   "metadata": {},
   "source": [
    "# 1.1 Prepare `tgan`"
   ]
  },
  {
   "cell_type": "code",
   "execution_count": 7,
   "metadata": {},
   "outputs": [
    {
     "data": {
      "text/plain": [
       "PassengerId      0\n",
       "Survived         0\n",
       "Pclass           0\n",
       "Name             0\n",
       "Sex              0\n",
       "Age            177\n",
       "SibSp            0\n",
       "Parch            0\n",
       "Ticket           0\n",
       "Fare             0\n",
       "Cabin          687\n",
       "Embarked         2\n",
       "dtype: int64"
      ]
     },
     "execution_count": 7,
     "metadata": {},
     "output_type": "execute_result"
    }
   ],
   "source": [
    "## check null data:\n",
    "df.isnull().sum()"
   ]
  },
  {
   "cell_type": "code",
   "execution_count": 8,
   "metadata": {},
   "outputs": [],
   "source": [
    "## Omit unnecessary or too many NA fields:\n",
    "df.drop(['Cabin', 'PassengerId', 'Name', 'Ticket'], axis=1, inplace=True)"
   ]
  },
  {
   "cell_type": "code",
   "execution_count": 9,
   "metadata": {},
   "outputs": [],
   "source": [
    "## Fill in:\n",
    "df['Age'].fillna(round(df['Age'].mean(), 0), inplace=True)\n",
    "df['Embarked'].fillna(df['Embarked'].value_counts().index[0], inplace=True)"
   ]
  },
  {
   "cell_type": "code",
   "execution_count": 10,
   "metadata": {},
   "outputs": [],
   "source": [
    "## Save column names, because they're replaced numbers after executing tgan\n",
    "df_columns = df.columns"
   ]
  },
  {
   "cell_type": "code",
   "execution_count": 11,
   "metadata": {},
   "outputs": [],
   "source": [
    "## Save columns with continuous values\n",
    "continuous_columns = [df.columns.get_loc(c) for c in df.select_dtypes(include=['float']).columns]"
   ]
  },
  {
   "cell_type": "markdown",
   "metadata": {},
   "source": [
    "# 1.2 Model generation of `tgan`"
   ]
  },
  {
   "cell_type": "code",
   "execution_count": 12,
   "metadata": {},
   "outputs": [],
   "source": [
    "## Instanciation\n",
    "tgan = TGANModel(continuous_columns, batch_size=50)"
   ]
  },
  {
   "cell_type": "code",
   "execution_count": 13,
   "metadata": {},
   "outputs": [],
   "source": [
    "## Training of tgan\n",
    "#tgan.fit(df)"
   ]
  },
  {
   "cell_type": "code",
   "execution_count": 14,
   "metadata": {},
   "outputs": [],
   "source": [
    "model_name = './model.pkl'\n",
    "#tgan.save(model_name)"
   ]
  },
  {
   "cell_type": "code",
   "execution_count": 15,
   "metadata": {},
   "outputs": [
    {
     "name": "stderr",
     "output_type": "stream",
     "text": [
      "/anaconda/envs/py36/lib/python3.6/site-packages/sklearn/base.py:306: UserWarning: Trying to unpickle estimator LabelEncoder from version 0.20.3 when using version 0.21.3. This might lead to breaking code or invalid results. Use at your own risk.\n",
      "  UserWarning)\n",
      "W0922 08:48:39.702479 140633002911488 deprecation_wrapper.py:119] From /anaconda/envs/py36/lib/python3.6/site-packages/tensorpack/tfutils/varmanip.py:178: The name tf.gfile.Exists is deprecated. Please use tf.io.gfile.exists instead.\n",
      "\n",
      "W0922 08:48:39.725731 140633002911488 deprecation_wrapper.py:119] From /anaconda/envs/py36/lib/python3.6/site-packages/tensorpack/predict/config.py:101: The name tf.train.ChiefSessionCreator is deprecated. Please use tf.compat.v1.train.ChiefSessionCreator instead.\n",
      "\n",
      "W0922 08:48:39.726867 140633002911488 deprecation_wrapper.py:119] From /anaconda/envs/py36/lib/python3.6/site-packages/tensorpack/tfutils/common.py:41: The name tf.ConfigProto is deprecated. Please use tf.compat.v1.ConfigProto instead.\n",
      "\n",
      "W0922 08:48:39.728826 140633002911488 deprecation_wrapper.py:119] From /anaconda/envs/py36/lib/python3.6/site-packages/tensorpack/graph_builder/model_desc.py:29: The name tf.get_default_graph is deprecated. Please use tf.compat.v1.get_default_graph instead.\n",
      "\n",
      "W0922 08:48:39.734650 140633002911488 deprecation_wrapper.py:119] From /anaconda/envs/py36/lib/python3.6/site-packages/tensorpack/graph_builder/model_desc.py:39: The name tf.placeholder is deprecated. Please use tf.compat.v1.placeholder instead.\n",
      "\n",
      "W0922 08:48:39.746659 140633002911488 deprecation_wrapper.py:119] From /anaconda/envs/py36/lib/python3.6/site-packages/tensorpack/tfutils/tower.py:204: The name tf.get_variable_scope is deprecated. Please use tf.compat.v1.get_variable_scope instead.\n",
      "\n",
      "W0922 08:48:39.747734 140633002911488 deprecation_wrapper.py:119] From /anaconda/envs/py36/lib/python3.6/site-packages/tensorpack/tfutils/tower.py:216: The name tf.GraphKeys is deprecated. Please use tf.compat.v1.GraphKeys instead.\n",
      "\n",
      "W0922 08:48:39.756648 140633002911488 deprecation.py:323] From /anaconda/envs/py36/lib/python3.6/site-packages/tgan/model.py:259: LSTMCell.__init__ (from tensorflow.python.ops.rnn_cell_impl) is deprecated and will be removed in a future version.\n",
      "Instructions for updating:\n",
      "This class is equivalent as tf.keras.layers.LSTMCell, and will be replaced by that in Tensorflow 2.0.\n",
      "W0922 08:48:39.775339 140633002911488 deprecation.py:506] From /anaconda/envs/py36/lib/python3.6/site-packages/tensorflow/python/ops/init_ops.py:1251: calling VarianceScaling.__init__ (from tensorflow.python.ops.init_ops) with dtype is deprecated and will be removed in a future version.\n",
      "Instructions for updating:\n",
      "Call initializer instance with the dtype argument instead of passing it to the constructor\n",
      "W0922 08:48:39.805631 140633002911488 deprecation.py:506] From /anaconda/envs/py36/lib/python3.6/site-packages/tensorflow/python/ops/rnn_cell_impl.py:961: calling Zeros.__init__ (from tensorflow.python.ops.init_ops) with dtype is deprecated and will be removed in a future version.\n",
      "Instructions for updating:\n",
      "Call initializer instance with the dtype argument instead of passing it to the constructor\n"
     ]
    },
    {
     "name": "stdout",
     "output_type": "stream",
     "text": [
      "\u001b[32m[0922 08:48:40 @registry.py:126]\u001b[0m gen/LSTM/00/FC input: [50, 100]\n"
     ]
    },
    {
     "name": "stderr",
     "output_type": "stream",
     "text": [
      "W0922 08:48:40.523312 140633002911488 deprecation_wrapper.py:119] From /anaconda/envs/py36/lib/python3.6/site-packages/tensorpack/models/fc.py:57: The name tf.layers.Dense is deprecated. Please use tf.compat.v1.layers.Dense instead.\n",
      "\n"
     ]
    },
    {
     "name": "stdout",
     "output_type": "stream",
     "text": [
      "\u001b[32m[0922 08:48:40 @registry.py:134]\u001b[0m gen/LSTM/00/FC output: [50, 100]\n",
      "\u001b[32m[0922 08:48:40 @registry.py:126]\u001b[0m gen/LSTM/00/FC2 input: [50, 100]\n",
      "\u001b[32m[0922 08:48:40 @registry.py:134]\u001b[0m gen/LSTM/00/FC2 output: [50, 2]\n",
      "\u001b[32m[0922 08:48:40 @registry.py:126]\u001b[0m gen/LSTM/00/FC3 input: [50, 2]\n",
      "\u001b[32m[0922 08:48:40 @registry.py:134]\u001b[0m gen/LSTM/00/FC3 output: [50, 100]\n",
      "\u001b[32m[0922 08:48:40 @registry.py:126]\u001b[0m gen/LSTM/01/FC input: [50, 100]\n",
      "\u001b[32m[0922 08:48:41 @registry.py:134]\u001b[0m gen/LSTM/01/FC output: [50, 100]\n",
      "\u001b[32m[0922 08:48:41 @registry.py:126]\u001b[0m gen/LSTM/01/FC2 input: [50, 100]\n",
      "\u001b[32m[0922 08:48:41 @registry.py:134]\u001b[0m gen/LSTM/01/FC2 output: [50, 3]\n",
      "\u001b[32m[0922 08:48:41 @registry.py:126]\u001b[0m gen/LSTM/01/FC3 input: [50, 3]\n",
      "\u001b[32m[0922 08:48:41 @registry.py:134]\u001b[0m gen/LSTM/01/FC3 output: [50, 100]\n",
      "\u001b[32m[0922 08:48:41 @registry.py:126]\u001b[0m gen/LSTM/02/FC input: [50, 100]\n",
      "\u001b[32m[0922 08:48:41 @registry.py:134]\u001b[0m gen/LSTM/02/FC output: [50, 100]\n",
      "\u001b[32m[0922 08:48:41 @registry.py:126]\u001b[0m gen/LSTM/02/FC2 input: [50, 100]\n",
      "\u001b[32m[0922 08:48:41 @registry.py:134]\u001b[0m gen/LSTM/02/FC2 output: [50, 2]\n",
      "\u001b[32m[0922 08:48:41 @registry.py:126]\u001b[0m gen/LSTM/02/FC3 input: [50, 2]\n",
      "\u001b[32m[0922 08:48:41 @registry.py:134]\u001b[0m gen/LSTM/02/FC3 output: [50, 100]\n",
      "\u001b[32m[0922 08:48:41 @registry.py:126]\u001b[0m gen/LSTM/03/FC input: [50, 100]\n",
      "\u001b[32m[0922 08:48:41 @registry.py:134]\u001b[0m gen/LSTM/03/FC output: [50, 100]\n",
      "\u001b[32m[0922 08:48:41 @registry.py:126]\u001b[0m gen/LSTM/03/FC2 input: [50, 100]\n",
      "\u001b[32m[0922 08:48:41 @registry.py:134]\u001b[0m gen/LSTM/03/FC2 output: [50, 1]\n",
      "\u001b[32m[0922 08:48:41 @registry.py:126]\u001b[0m gen/LSTM/04/FC input: [50, 100]\n",
      "\u001b[32m[0922 08:48:41 @registry.py:134]\u001b[0m gen/LSTM/04/FC output: [50, 100]\n",
      "\u001b[32m[0922 08:48:41 @registry.py:126]\u001b[0m gen/LSTM/04/FC2 input: [50, 100]\n",
      "\u001b[32m[0922 08:48:41 @registry.py:134]\u001b[0m gen/LSTM/04/FC2 output: [50, 5]\n",
      "\u001b[32m[0922 08:48:41 @registry.py:126]\u001b[0m gen/LSTM/04/FC3 input: [50, 5]\n",
      "\u001b[32m[0922 08:48:41 @registry.py:134]\u001b[0m gen/LSTM/04/FC3 output: [50, 100]\n",
      "\u001b[32m[0922 08:48:41 @registry.py:126]\u001b[0m gen/LSTM/05/FC input: [50, 100]\n",
      "\u001b[32m[0922 08:48:41 @registry.py:134]\u001b[0m gen/LSTM/05/FC output: [50, 100]\n",
      "\u001b[32m[0922 08:48:41 @registry.py:126]\u001b[0m gen/LSTM/05/FC2 input: [50, 100]\n",
      "\u001b[32m[0922 08:48:41 @registry.py:134]\u001b[0m gen/LSTM/05/FC2 output: [50, 7]\n",
      "\u001b[32m[0922 08:48:41 @registry.py:126]\u001b[0m gen/LSTM/05/FC3 input: [50, 7]\n",
      "\u001b[32m[0922 08:48:41 @registry.py:134]\u001b[0m gen/LSTM/05/FC3 output: [50, 100]\n",
      "\u001b[32m[0922 08:48:41 @registry.py:126]\u001b[0m gen/LSTM/06/FC input: [50, 100]\n",
      "\u001b[32m[0922 08:48:41 @registry.py:134]\u001b[0m gen/LSTM/06/FC output: [50, 100]\n",
      "\u001b[32m[0922 08:48:41 @registry.py:126]\u001b[0m gen/LSTM/06/FC2 input: [50, 100]\n",
      "\u001b[32m[0922 08:48:41 @registry.py:134]\u001b[0m gen/LSTM/06/FC2 output: [50, 7]\n",
      "\u001b[32m[0922 08:48:41 @registry.py:126]\u001b[0m gen/LSTM/06/FC3 input: [50, 7]\n",
      "\u001b[32m[0922 08:48:41 @registry.py:134]\u001b[0m gen/LSTM/06/FC3 output: [50, 100]\n",
      "\u001b[32m[0922 08:48:41 @registry.py:126]\u001b[0m gen/LSTM/07/FC input: [50, 100]\n",
      "\u001b[32m[0922 08:48:41 @registry.py:134]\u001b[0m gen/LSTM/07/FC output: [50, 100]\n",
      "\u001b[32m[0922 08:48:41 @registry.py:126]\u001b[0m gen/LSTM/07/FC2 input: [50, 100]\n",
      "\u001b[32m[0922 08:48:42 @registry.py:134]\u001b[0m gen/LSTM/07/FC2 output: [50, 1]\n",
      "\u001b[32m[0922 08:48:42 @registry.py:126]\u001b[0m gen/LSTM/08/FC input: [50, 100]\n",
      "\u001b[32m[0922 08:48:42 @registry.py:134]\u001b[0m gen/LSTM/08/FC output: [50, 100]\n",
      "\u001b[32m[0922 08:48:42 @registry.py:126]\u001b[0m gen/LSTM/08/FC2 input: [50, 100]\n",
      "\u001b[32m[0922 08:48:42 @registry.py:134]\u001b[0m gen/LSTM/08/FC2 output: [50, 5]\n",
      "\u001b[32m[0922 08:48:42 @registry.py:126]\u001b[0m gen/LSTM/08/FC3 input: [50, 5]\n",
      "\u001b[32m[0922 08:48:42 @registry.py:134]\u001b[0m gen/LSTM/08/FC3 output: [50, 100]\n",
      "\u001b[32m[0922 08:48:42 @registry.py:126]\u001b[0m gen/LSTM/09/FC input: [50, 100]\n",
      "\u001b[32m[0922 08:48:42 @registry.py:134]\u001b[0m gen/LSTM/09/FC output: [50, 100]\n",
      "\u001b[32m[0922 08:48:42 @registry.py:126]\u001b[0m gen/LSTM/09/FC2 input: [50, 100]\n",
      "\u001b[32m[0922 08:48:42 @registry.py:134]\u001b[0m gen/LSTM/09/FC2 output: [50, 3]\n",
      "\u001b[32m[0922 08:48:42 @registry.py:126]\u001b[0m gen/LSTM/09/FC3 input: [50, 3]\n",
      "\u001b[32m[0922 08:48:42 @registry.py:134]\u001b[0m gen/LSTM/09/FC3 output: [50, 100]\n",
      "\u001b[32m[0922 08:48:42 @registry.py:126]\u001b[0m discrim/dis_fc0/fc input: [50, 36]\n",
      "\u001b[32m[0922 08:48:42 @registry.py:134]\u001b[0m discrim/dis_fc0/fc output: [50, 100]\n",
      "\u001b[32m[0922 08:48:42 @registry.py:126]\u001b[0m discrim/dis_fc0/fc_diversity input: [50, 100]\n",
      "\u001b[32m[0922 08:48:42 @registry.py:134]\u001b[0m discrim/dis_fc0/fc_diversity output: [50, 100]\n"
     ]
    },
    {
     "name": "stderr",
     "output_type": "stream",
     "text": [
      "W0922 08:48:42.446496 140633002911488 deprecation_wrapper.py:119] From /anaconda/envs/py36/lib/python3.6/site-packages/tensorpack/models/batch_norm.py:204: The name tf.layers.BatchNormalization is deprecated. Please use tf.compat.v1.layers.BatchNormalization instead.\n",
      "\n"
     ]
    },
    {
     "name": "stdout",
     "output_type": "stream",
     "text": [
      "\u001b[32m[0922 08:48:42 @registry.py:126]\u001b[0m discrim/dis_fc_top input: [50, 110]\n",
      "\u001b[32m[0922 08:48:42 @registry.py:134]\u001b[0m discrim/dis_fc_top output: [50, 1]\n"
     ]
    },
    {
     "name": "stderr",
     "output_type": "stream",
     "text": [
      "W0922 08:48:42.602106 140633002911488 deprecation_wrapper.py:119] From /anaconda/envs/py36/lib/python3.6/site-packages/tgan/model.py:118: The name tf.summary.histogram is deprecated. Please use tf.compat.v1.summary.histogram instead.\n",
      "\n",
      "W0922 08:48:42.610655 140633002911488 deprecation.py:323] From /anaconda/envs/py36/lib/python3.6/site-packages/tensorflow/python/ops/nn_impl.py:180: add_dispatch_support.<locals>.wrapper (from tensorflow.python.ops.array_ops) is deprecated and will be removed in a future version.\n",
      "Instructions for updating:\n",
      "Use tf.where in 2.0, which has the same broadcast rule as np.where\n",
      "W0922 08:48:43.232400 140633002911488 lazy_loader.py:50] \n",
      "The TensorFlow contrib module will not be included in TensorFlow 2.0.\n",
      "For more information, please see:\n",
      "  * https://github.com/tensorflow/community/blob/master/rfcs/20180907-contrib-sunset.md\n",
      "  * https://github.com/tensorflow/addons\n",
      "  * https://github.com/tensorflow/io (for I/O related ops)\n",
      "If you depend on functionality not listed there, please file an issue.\n",
      "\n"
     ]
    },
    {
     "name": "stdout",
     "output_type": "stream",
     "text": [
      "\u001b[32m[0922 08:48:43 @collection.py:146]\u001b[0m New collections created in tower : tf.GraphKeys.REGULARIZATION_LOSSES\n",
      "\u001b[32m[0922 08:48:43 @collection.py:165]\u001b[0m These collections were modified but restored in : (tf.GraphKeys.SUMMARIES: 0->2)\n"
     ]
    },
    {
     "name": "stderr",
     "output_type": "stream",
     "text": [
      "W0922 08:48:43.417505 140633002911488 deprecation_wrapper.py:119] From /anaconda/envs/py36/lib/python3.6/site-packages/tensorpack/tfutils/sessinit.py:120: The name tf.train.NewCheckpointReader is deprecated. Please use tf.compat.v1.train.NewCheckpointReader instead.\n",
      "\n"
     ]
    },
    {
     "name": "stdout",
     "output_type": "stream",
     "text": [
      "\u001b[32m[0922 08:48:43 @sessinit.py:87]\u001b[0m \u001b[5m\u001b[31mWRN\u001b[0m The following variables are in the checkpoint, but not found in the graph: global_step, optimize/beta1_power, optimize/beta2_power\n",
      "\u001b[32m[0922 08:48:44 @sessinit.py:114]\u001b[0m Restoring checkpoint from output/model/model-50000 ...\n"
     ]
    },
    {
     "name": "stderr",
     "output_type": "stream",
     "text": [
      "W0922 08:48:44.346867 140633002911488 deprecation.py:323] From /anaconda/envs/py36/lib/python3.6/site-packages/tensorflow/python/training/saver.py:1276: checkpoint_exists (from tensorflow.python.training.checkpoint_management) is deprecated and will be removed in a future version.\n",
      "Instructions for updating:\n",
      "Use standard file APIs to check for files with this prefix.\n"
     ]
    }
   ],
   "source": [
    "tgan = TGANModel.load(model_name)"
   ]
  },
  {
   "cell_type": "markdown",
   "metadata": {},
   "source": [
    "# 2. Evaluate generated dataset"
   ]
  },
  {
   "cell_type": "markdown",
   "metadata": {},
   "source": [
    "# 2.0 Prep for evaluation"
   ]
  },
  {
   "cell_type": "code",
   "execution_count": 16,
   "metadata": {},
   "outputs": [],
   "source": [
    "## Reset column names\n",
    "df.columns = df_columns"
   ]
  },
  {
   "cell_type": "code",
   "execution_count": 17,
   "metadata": {},
   "outputs": [
    {
     "data": {
      "text/html": [
       "<div>\n",
       "<style scoped>\n",
       "    .dataframe tbody tr th:only-of-type {\n",
       "        vertical-align: middle;\n",
       "    }\n",
       "\n",
       "    .dataframe tbody tr th {\n",
       "        vertical-align: top;\n",
       "    }\n",
       "\n",
       "    .dataframe thead th {\n",
       "        text-align: right;\n",
       "    }\n",
       "</style>\n",
       "<table border=\"1\" class=\"dataframe\">\n",
       "  <thead>\n",
       "    <tr style=\"text-align: right;\">\n",
       "      <th></th>\n",
       "      <th>Survived</th>\n",
       "      <th>Pclass</th>\n",
       "      <th>Sex</th>\n",
       "      <th>Age</th>\n",
       "      <th>SibSp</th>\n",
       "      <th>Parch</th>\n",
       "      <th>Fare</th>\n",
       "      <th>Embarked</th>\n",
       "    </tr>\n",
       "  </thead>\n",
       "  <tbody>\n",
       "    <tr>\n",
       "      <th>0</th>\n",
       "      <td>0</td>\n",
       "      <td>3</td>\n",
       "      <td>male</td>\n",
       "      <td>22.0</td>\n",
       "      <td>1</td>\n",
       "      <td>0</td>\n",
       "      <td>7.2500</td>\n",
       "      <td>S</td>\n",
       "    </tr>\n",
       "    <tr>\n",
       "      <th>1</th>\n",
       "      <td>1</td>\n",
       "      <td>1</td>\n",
       "      <td>female</td>\n",
       "      <td>38.0</td>\n",
       "      <td>1</td>\n",
       "      <td>0</td>\n",
       "      <td>71.2833</td>\n",
       "      <td>C</td>\n",
       "    </tr>\n",
       "    <tr>\n",
       "      <th>2</th>\n",
       "      <td>1</td>\n",
       "      <td>3</td>\n",
       "      <td>female</td>\n",
       "      <td>26.0</td>\n",
       "      <td>0</td>\n",
       "      <td>0</td>\n",
       "      <td>7.9250</td>\n",
       "      <td>S</td>\n",
       "    </tr>\n",
       "    <tr>\n",
       "      <th>3</th>\n",
       "      <td>1</td>\n",
       "      <td>1</td>\n",
       "      <td>female</td>\n",
       "      <td>35.0</td>\n",
       "      <td>1</td>\n",
       "      <td>0</td>\n",
       "      <td>53.1000</td>\n",
       "      <td>S</td>\n",
       "    </tr>\n",
       "    <tr>\n",
       "      <th>4</th>\n",
       "      <td>0</td>\n",
       "      <td>3</td>\n",
       "      <td>male</td>\n",
       "      <td>35.0</td>\n",
       "      <td>0</td>\n",
       "      <td>0</td>\n",
       "      <td>8.0500</td>\n",
       "      <td>S</td>\n",
       "    </tr>\n",
       "  </tbody>\n",
       "</table>\n",
       "</div>"
      ],
      "text/plain": [
       "   Survived  Pclass     Sex   Age  SibSp  Parch     Fare Embarked\n",
       "0         0       3    male  22.0      1      0   7.2500        S\n",
       "1         1       1  female  38.0      1      0  71.2833        C\n",
       "2         1       3  female  26.0      0      0   7.9250        S\n",
       "3         1       1  female  35.0      1      0  53.1000        S\n",
       "4         0       3    male  35.0      0      0   8.0500        S"
      ]
     },
     "execution_count": 17,
     "metadata": {},
     "output_type": "execute_result"
    }
   ],
   "source": [
    "df.head()"
   ]
  },
  {
   "cell_type": "code",
   "execution_count": 18,
   "metadata": {},
   "outputs": [],
   "source": [
    "## Split datasets\n",
    "X_train, X_test, y_train, y_test = train_test_split(df.iloc[:, 1:], df['Survived'], test_size=0.3, random_state=0)"
   ]
  },
  {
   "cell_type": "code",
   "execution_count": 19,
   "metadata": {},
   "outputs": [
    {
     "data": {
      "text/plain": [
       "((623, 7), (623,), (268, 7), (268,))"
      ]
     },
     "execution_count": 19,
     "metadata": {},
     "output_type": "execute_result"
    }
   ],
   "source": [
    "## Check those shapes\n",
    "X_train.shape, y_train.shape, X_test.shape, y_test.shape"
   ]
  },
  {
   "cell_type": "code",
   "execution_count": 20,
   "metadata": {},
   "outputs": [],
   "source": [
    "## Manipulate dataset for training\n",
    "X_train1 = pd.get_dummies(X_train)\n",
    "X_test1 = pd.get_dummies(X_test)"
   ]
  },
  {
   "cell_type": "code",
   "execution_count": 21,
   "metadata": {},
   "outputs": [],
   "source": [
    "def populate_samples(sample_num, tgan):\n",
    "    ## Populate samples\n",
    "    samples = tgan.sample(sample_num)\n",
    "    ## format change in order to fit the original format\n",
    "    samples['Survived'] = samples['Survived'].astype('int64')\n",
    "    samples['Pclass'] = samples['Pclass'].astype('int64')\n",
    "    samples['SibSp'] = samples['SibSp'].astype('int64')\n",
    "    samples['Parch'] = samples['Parch'].astype('int64')\n",
    "    ## extract independent variables\n",
    "    samples1 = pd.get_dummies(samples.iloc[:, 1:])\n",
    "    return samples1, samples['Survived']"
   ]
  },
  {
   "cell_type": "code",
   "execution_count": 22,
   "metadata": {},
   "outputs": [
    {
     "name": "stderr",
     "output_type": "stream",
     "text": [
      "?|99/?[00:00<00:00,109.96it/s]              \n"
     ]
    }
   ],
   "source": [
    "## Generate samples with tgan\n",
    "X_train_augmented, y_train_augmented = populate_samples(5000, tgan)"
   ]
  },
  {
   "cell_type": "code",
   "execution_count": 23,
   "metadata": {},
   "outputs": [
    {
     "data": {
      "text/plain": [
       "((5000, 10), (5000,))"
      ]
     },
     "execution_count": 23,
     "metadata": {},
     "output_type": "execute_result"
    }
   ],
   "source": [
    "## Check dataset\n",
    "X_train_augmented.shape, y_train_augmented.shape"
   ]
  },
  {
   "cell_type": "markdown",
   "metadata": {},
   "source": [
    "# 2.1 modeling with original dataset"
   ]
  },
  {
   "cell_type": "code",
   "execution_count": 24,
   "metadata": {},
   "outputs": [],
   "source": [
    "clf = LogisticRegression()"
   ]
  },
  {
   "cell_type": "code",
   "execution_count": 25,
   "metadata": {},
   "outputs": [
    {
     "name": "stderr",
     "output_type": "stream",
     "text": [
      "/anaconda/envs/py36/lib/python3.6/site-packages/sklearn/linear_model/logistic.py:432: FutureWarning: Default solver will be changed to 'lbfgs' in 0.22. Specify a solver to silence this warning.\n",
      "  FutureWarning)\n"
     ]
    },
    {
     "data": {
      "text/plain": [
       "LogisticRegression(C=1.0, class_weight=None, dual=False, fit_intercept=True,\n",
       "                   intercept_scaling=1, l1_ratio=None, max_iter=100,\n",
       "                   multi_class='warn', n_jobs=None, penalty='l2',\n",
       "                   random_state=None, solver='warn', tol=0.0001, verbose=0,\n",
       "                   warm_start=False)"
      ]
     },
     "execution_count": 25,
     "metadata": {},
     "output_type": "execute_result"
    }
   ],
   "source": [
    "clf.fit(X_train1, y_train)"
   ]
  },
  {
   "cell_type": "code",
   "execution_count": 26,
   "metadata": {},
   "outputs": [
    {
     "data": {
      "text/plain": [
       "0.8041733547351525"
      ]
     },
     "execution_count": 26,
     "metadata": {},
     "output_type": "execute_result"
    }
   ],
   "source": [
    "clf.score(X_train1, y_train)"
   ]
  },
  {
   "cell_type": "code",
   "execution_count": 27,
   "metadata": {},
   "outputs": [
    {
     "data": {
      "text/plain": [
       "0.8022388059701493"
      ]
     },
     "execution_count": 27,
     "metadata": {},
     "output_type": "execute_result"
    }
   ],
   "source": [
    "clf.score(X_test1, y_test)"
   ]
  },
  {
   "cell_type": "code",
   "execution_count": 28,
   "metadata": {},
   "outputs": [
    {
     "data": {
      "text/plain": [
       "0.7309644670050761"
      ]
     },
     "execution_count": 28,
     "metadata": {},
     "output_type": "execute_result"
    }
   ],
   "source": [
    "f1_score(y_test, clf.predict(X_test1))"
   ]
  },
  {
   "cell_type": "markdown",
   "metadata": {},
   "source": [
    "# 2.2 modeling with augmented dataset"
   ]
  },
  {
   "cell_type": "code",
   "execution_count": 29,
   "metadata": {},
   "outputs": [],
   "source": [
    "clf2 = LogisticRegression()"
   ]
  },
  {
   "cell_type": "code",
   "execution_count": 30,
   "metadata": {},
   "outputs": [
    {
     "name": "stderr",
     "output_type": "stream",
     "text": [
      "/anaconda/envs/py36/lib/python3.6/site-packages/sklearn/linear_model/logistic.py:432: FutureWarning: Default solver will be changed to 'lbfgs' in 0.22. Specify a solver to silence this warning.\n",
      "  FutureWarning)\n"
     ]
    },
    {
     "data": {
      "text/plain": [
       "LogisticRegression(C=1.0, class_weight=None, dual=False, fit_intercept=True,\n",
       "                   intercept_scaling=1, l1_ratio=None, max_iter=100,\n",
       "                   multi_class='warn', n_jobs=None, penalty='l2',\n",
       "                   random_state=None, solver='warn', tol=0.0001, verbose=0,\n",
       "                   warm_start=False)"
      ]
     },
     "execution_count": 30,
     "metadata": {},
     "output_type": "execute_result"
    }
   ],
   "source": [
    "clf2.fit(X_train_augmented, y_train_augmented)"
   ]
  },
  {
   "cell_type": "code",
   "execution_count": 31,
   "metadata": {},
   "outputs": [
    {
     "data": {
      "text/plain": [
       "0.8048"
      ]
     },
     "execution_count": 31,
     "metadata": {},
     "output_type": "execute_result"
    }
   ],
   "source": [
    "clf2.score(X_train_augmented, y_train_augmented)"
   ]
  },
  {
   "cell_type": "code",
   "execution_count": 32,
   "metadata": {},
   "outputs": [
    {
     "data": {
      "text/plain": [
       "0.8059701492537313"
      ]
     },
     "execution_count": 32,
     "metadata": {},
     "output_type": "execute_result"
    }
   ],
   "source": [
    "clf2.score(X_test1, y_test)"
   ]
  },
  {
   "cell_type": "code",
   "execution_count": 33,
   "metadata": {},
   "outputs": [
    {
     "data": {
      "text/plain": [
       "0.7450980392156863"
      ]
     },
     "execution_count": 33,
     "metadata": {},
     "output_type": "execute_result"
    }
   ],
   "source": [
    "f1_score(y_test, clf2.predict(X_test1))"
   ]
  },
  {
   "cell_type": "markdown",
   "metadata": {},
   "source": [
    "# 2.3 transitions with generated datasets"
   ]
  },
  {
   "cell_type": "code",
   "execution_count": null,
   "metadata": {},
   "outputs": [
    {
     "name": "stderr",
     "output_type": "stream",
     "text": [
      "  2%|2         |1/50[00:00<00:00,77.97it/s]\n",
      "  6%|6         |3/50[00:00<00:00,126.91it/s]\n",
      " 10%|#         |5/50[00:00<00:00,126.00it/s]\n",
      " 14%|#4        |7/50[00:00<00:00,148.04it/s]\n",
      " 18%|#8        |9/50[00:00<00:00,161.10it/s]\n",
      " 22%|##2       |11/50[00:00<00:00,148.23it/s]\n",
      " 26%|##6       |13/50[00:00<00:00,143.90it/s]\n",
      " 30%|###       |15/50[00:00<00:00,148.83it/s]\n",
      " 34%|###4      |17/50[00:00<00:00,152.98it/s]\n",
      " 38%|###8      |19/50[00:00<00:00,158.20it/s]\n",
      " 42%|####2     |21/50[00:00<00:00,151.94it/s]\n",
      " 46%|####6     |23/50[00:00<00:00,159.68it/s]\n",
      " 50%|#####     |25/50[00:00<00:00,158.60it/s]\n",
      " 54%|#####4    |27/50[00:00<00:00,160.13it/s]\n",
      "  0%|          |0/50[00:00<?,?it/s]"
     ]
    }
   ],
   "source": [
    "list_samples = [populate_samples(sample_num, tgan) for sample_num in range(100, 10000, 100)]"
   ]
  },
  {
   "cell_type": "code",
   "execution_count": null,
   "metadata": {},
   "outputs": [],
   "source": [
    "list_f_val = []\n",
    "for i in range(len(list_samples)):\n",
    "    X, y = list_samples[i][0], list_samples[i][1]\n",
    "    clf3 = LogisticRegression()\n",
    "    clf3.fit(X, y)\n",
    "    f_val = f1_score(y_test, clf3.predict(X_test1))\n",
    "    list_f_val.append([(i+1)*100, f_val])"
   ]
  },
  {
   "cell_type": "code",
   "execution_count": null,
   "metadata": {},
   "outputs": [],
   "source": [
    "pd.DataFrame(list_f_val, columns=['sample_number', 'F_value']).plot(kind='scatter', x='sample_number', y='F_value')"
   ]
  },
  {
   "cell_type": "code",
   "execution_count": null,
   "metadata": {},
   "outputs": [],
   "source": [
    "## Generate distance matrix\n",
    "dist_M = distance.cdist(list_samples[98][0], X_train1, metric='euclidean')\n",
    "\n",
    "## Distribution of minimum distances\n",
    "pd.DataFrame(np.min(dist_M, axis=1)).plot(kind='hist', bins=100)"
   ]
  },
  {
   "cell_type": "code",
   "execution_count": null,
   "metadata": {},
   "outputs": [],
   "source": [
    "## Even minimum of minimum is not 0\n",
    "np.min(dist_M, axis=1).min()"
   ]
  },
  {
   "cell_type": "markdown",
   "metadata": {},
   "source": [
    "## 3. Compare SMOTE"
   ]
  },
  {
   "cell_type": "code",
   "execution_count": null,
   "metadata": {},
   "outputs": [],
   "source": [
    "## Instanciation of SMOTE\n",
    "sm = SMOTE(random_state=0)"
   ]
  },
  {
   "cell_type": "code",
   "execution_count": null,
   "metadata": {},
   "outputs": [],
   "source": [
    "X_res, y_res = sm.fit_resample(X_train1, y_train)"
   ]
  },
  {
   "cell_type": "code",
   "execution_count": null,
   "metadata": {},
   "outputs": [],
   "source": [
    "X_res.shape"
   ]
  },
  {
   "cell_type": "code",
   "execution_count": null,
   "metadata": {},
   "outputs": [],
   "source": [
    "clf4 = LogisticRegression()\n",
    "clf4.fit(X_res, y_res)\n",
    "\n",
    "f1_score(y_test, clf4.predict(X_test1))"
   ]
  }
 ],
 "metadata": {
  "kernelspec": {
   "display_name": "Python 3.6 - AzureML",
   "language": "python",
   "name": "python3-azureml"
  },
  "language_info": {
   "codemirror_mode": {
    "name": "ipython",
    "version": 3
   },
   "file_extension": ".py",
   "mimetype": "text/x-python",
   "name": "python",
   "nbconvert_exporter": "python",
   "pygments_lexer": "ipython3",
   "version": "3.6.8"
  }
 },
 "nbformat": 4,
 "nbformat_minor": 2
}
